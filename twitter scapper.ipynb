{
 "cells": [
  {
   "cell_type": "code",
   "execution_count": 9,
   "id": "ae77aeed",
   "metadata": {
    "scrolled": true
   },
   "outputs": [],
   "source": [
    "import re\n",
    "import csv \n",
    "import json\n",
    "import pymysql\n",
    "import pymysql.cursors\n",
    "import mysql.connector\n",
    "from getpass import getpass \n",
    "from selenium import webdriver\n",
    "from time import sleep \n",
    "from selenium.webdriver.common.keys import Keys \n",
    "from selenium.common.exceptions import NoSuchElementException \n",
    "from msedge.selenium_tools import Edge, EdgeOptions \n",
    "from kafka import KafkaProducer\n",
    "from kafka.errors import KafkaError\n",
    "producer = KafkaProducer(bootstrap_servers=['localhost:9092'])"
   ]
  },
  {
   "cell_type": "code",
   "execution_count": 10,
   "id": "33c796ce",
   "metadata": {
    "scrolled": true
   },
   "outputs": [
    {
     "name": "stderr",
     "output_type": "stream",
     "text": [
      "C:\\Users\\asus\\AppData\\Local\\Temp/ipykernel_20796/2047074698.py:3: DeprecationWarning: Selenium Tools for Microsoft Edge is deprecated. Please upgrade to Selenium 4 which has built-in support for Microsoft Edge (Chromium): https://docs.microsoft.com/en-us/microsoft-edge/webdriver-chromium/#upgrading-from-selenium-3\n",
      "  driver = Edge(executable_path=r'C:\\msedgedriver.exe', options=options)\n"
     ]
    }
   ],
   "source": [
    "options = EdgeOptions()\n",
    "options.use_chromium = True \n",
    "driver = Edge(executable_path=r'C:\\msedgedriver.exe', options=options)\n",
    "driver.get('https://twitter.com/i/flow/login')"
   ]
  },
  {
   "cell_type": "code",
   "execution_count": 11,
   "id": "eb4a1659",
   "metadata": {},
   "outputs": [
    {
     "name": "stderr",
     "output_type": "stream",
     "text": [
      "C:\\Users\\asus\\AppData\\Local\\Temp/ipykernel_20796/4162907471.py:1: DeprecationWarning: find_element_by_* commands are deprecated. Please use find_element() instead\n",
      "  user=driver.find_element_by_xpath('//input[@class=\"r-30o5oe r-1niwhzg r-17gur6a r-1yadl64 r-deolkf r-homxoj r-poiln3 r-7cikom r-1ny4l3l r-t60dpp r-1dz5y72 r-fdjqy7 r-13qz1uu\"]')\n"
     ]
    }
   ],
   "source": [
    "user=driver.find_element_by_xpath('//input[@class=\"r-30o5oe r-1niwhzg r-17gur6a r-1yadl64 r-deolkf r-homxoj r-poiln3 r-7cikom r-1ny4l3l r-t60dpp r-1dz5y72 r-fdjqy7 r-13qz1uu\"]')\n",
    "username = getpass('username : ') \n",
    "user.send_keys(username) \n",
    "user.send_keys(Keys.RETURN)"
   ]
  },
  {
   "cell_type": "code",
   "execution_count": 12,
   "id": "d99ce1c2",
   "metadata": {},
   "outputs": [
    {
     "name": "stderr",
     "output_type": "stream",
     "text": [
      "C:\\Users\\asus\\AppData\\Local\\Temp/ipykernel_20796/172388547.py:1: DeprecationWarning: find_element_by_* commands are deprecated. Please use find_element() instead\n",
      "  passfield = driver.find_element_by_xpath('//input[@name=\"password\"]')\n"
     ]
    },
    {
     "name": "stdout",
     "output_type": "stream",
     "text": [
      "Password: ········\n"
     ]
    }
   ],
   "source": [
    "passfield = driver.find_element_by_xpath('//input[@name=\"password\"]')\n",
    "password = getpass('Password: ') \n",
    "passfield.send_keys(password)\n",
    "passfield.send_keys(Keys.RETURN)"
   ]
  },
  {
   "cell_type": "code",
   "execution_count": 13,
   "id": "45d484ff",
   "metadata": {},
   "outputs": [
    {
     "name": "stderr",
     "output_type": "stream",
     "text": [
      "C:\\Users\\asus\\AppData\\Local\\Temp/ipykernel_20796/3051703618.py:1: DeprecationWarning: find_element_by_* commands are deprecated. Please use find_element() instead\n",
      "  driver.find_element_by_xpath('//a[@aria-label=\"Search and explore\"]').click()\n"
     ]
    }
   ],
   "source": [
    "driver.find_element_by_xpath('//a[@aria-label=\"Search and explore\"]').click()"
   ]
  },
  {
   "cell_type": "code",
   "execution_count": 14,
   "id": "2c756f7d",
   "metadata": {},
   "outputs": [
    {
     "name": "stderr",
     "output_type": "stream",
     "text": [
      "C:\\Users\\asus\\AppData\\Local\\Temp/ipykernel_20796/3629777371.py:1: DeprecationWarning: find_element_by_* commands are deprecated. Please use find_element() instead\n",
      "  search=driver.find_element_by_xpath('//input[@aria-label=\"Search query\"]')\n",
      "C:\\Users\\asus\\AppData\\Local\\Temp/ipykernel_20796/3629777371.py:4: DeprecationWarning: find_element_by_* commands are deprecated. Please use find_element() instead\n",
      "  driver.find_element_by_link_text('Latest').click()\n"
     ]
    }
   ],
   "source": [
    "search=driver.find_element_by_xpath('//input[@aria-label=\"Search query\"]')\n",
    "search.send_keys('budget2022') \n",
    "search.send_keys(Keys.RETURN)\n",
    "driver.find_element_by_link_text('Latest').click()"
   ]
  },
  {
   "cell_type": "markdown",
   "id": "3ee14000",
   "metadata": {},
   "source": [
    "<h2>Storing Tweets in kafka</h2>"
   ]
  },
  {
   "cell_type": "code",
   "execution_count": null,
   "id": "5e34bae6",
   "metadata": {},
   "outputs": [],
   "source": [
    "page_cards = driver.find_elements_by_xpath('//article[@data-testid=\"tweet\"]')\n",
    "for card in page_cards[0:]:\n",
    "    text = card.find_element_by_xpath('.//div[@class=\"css-901oao r-1fmj7o5 r-37j5jr r-a023e6 r-16dba41 r-rjixqe r-bcqeeo r-bnwqim r-qvutc0\"]').text \n",
    "    x =text.encode(\"utf-8\")\n",
    "    producer.send('project', x)"
   ]
  },
  {
   "cell_type": "markdown",
   "id": "0e75b9ba",
   "metadata": {},
   "source": [
    "<h2>Storing Tweet in MySQL</h2>"
   ]
  },
  {
   "cell_type": "code",
   "execution_count": null,
   "id": "423d1679",
   "metadata": {},
   "outputs": [],
   "source": [
    "mydb = mysql.connector.connect(\n",
    "  host=\"localhost\",\n",
    "  user=\"root\",\n",
    "  password=\"<password>\",\n",
    "    database = 'twitter'\n",
    ")\n",
    "\n",
    "page_cards = driver.find_elements_by_xpath('//article[@data-testid=\"tweet\"]')\n",
    "for card in page_cards[0:]:\n",
    "    text = card.find_element_by_xpath('.//div[@class=\"css-901oao r-1fmj7o5 r-37j5jr r-a023e6 r-16dba41 r-rjixqe r-bcqeeo r-bnwqim r-qvutc0\"]').text\n",
    "    x=text.replace ('\\n', '')\n",
    "    print(x)\n",
    "    cursorObject = mydb.cursor()\n",
    "    sql = \"INSERT INTO twee\"\"(tw)\"\"VALUES(%s)\"\n",
    "    cursorObject.execute(\"INSERT INTO twee (tw) VALUES (%s)\", (x,))\n",
    "    mydb.commit()\n",
    "   \n",
    "# disconnecting from server\n",
    "mydb.close()"
   ]
  },
  {
   "cell_type": "markdown",
   "id": "b0b80837",
   "metadata": {},
   "source": [
    "<h2>Storing Tweet in Singlestore</h2>"
   ]
  },
  {
   "cell_type": "code",
   "execution_count": null,
   "id": "a810ff78",
   "metadata": {},
   "outputs": [],
   "source": [
    "mydb =pymysql.connect(\n",
    "    user='root',\n",
    "    password='root',\n",
    "    host='localhost',\n",
    "    port=3307,\n",
    "    database='<database name>')\n",
    "\n",
    "page_cards = driver.find_elements_by_xpath('//article[@data-testid=\"tweet\"]')\n",
    "for card in page_cards[0:]:\n",
    "    text = card.find_element_by_xpath('.//div[@class=\"css-901oao r-1fmj7o5 r-37j5jr r-a023e6 r-16dba41 r-rjixqe r-bcqeeo r-bnwqim r-qvutc0\"]').text\n",
    "    x=text.replace ('\\n', '')\n",
    "    print(x)\n",
    "    cursorObject = mydb.cursor()\n",
    "    sql = \"INSERT INTO word\"\"(twe)\"\"VALUES(%s)\"\n",
    "    cursorObject.execute(sql, (x,))\n",
    "    mydb.commit()\n",
    "   \n",
    "# disconnecting from server\n",
    "mydb.close()"
   ]
  },
  {
   "cell_type": "code",
   "execution_count": null,
   "id": "5b54aa10",
   "metadata": {},
   "outputs": [],
   "source": []
  }
 ],
 "metadata": {
  "kernelspec": {
   "display_name": "Python 3 (ipykernel)",
   "language": "python",
   "name": "python3"
  },
  "language_info": {
   "codemirror_mode": {
    "name": "ipython",
    "version": 3
   },
   "file_extension": ".py",
   "mimetype": "text/x-python",
   "name": "python",
   "nbconvert_exporter": "python",
   "pygments_lexer": "ipython3",
   "version": "3.8.8"
  }
 },
 "nbformat": 4,
 "nbformat_minor": 5
}
